{
 "cells": [
  {
   "cell_type": "code",
   "execution_count": 38,
   "metadata": {},
   "outputs": [],
   "source": [
    "import os\n",
    "import numpy as np\n",
    "from shapely.geometry import Point,Polygon"
   ]
  },
  {
   "cell_type": "code",
   "execution_count": null,
   "metadata": {},
   "outputs": [],
   "source": [
    "npanels = 4\n",
    "nimages = 5"
   ]
  },
  {
   "cell_type": "code",
   "execution_count": 39,
   "metadata": {},
   "outputs": [],
   "source": [
    "folder = '../../data'\n",
    "files = os.listdir(folder)\n",
    "panelsCorners = folder+'/panelsScreen.csv'"
   ]
  },
  {
   "cell_type": "code",
   "execution_count": 40,
   "metadata": {},
   "outputs": [],
   "source": [
    "pc = np.loadtxt(panelsCorners,delimiter=',')"
   ]
  },
  {
   "cell_type": "code",
   "execution_count": 92,
   "metadata": {},
   "outputs": [],
   "source": [
    "faultsCorners = folder+'/faultsScreen.csv'\n",
    "fc = np.loadtxt(faultsCorners,delimiter=',')"
   ]
  },
  {
   "cell_type": "code",
   "execution_count": 93,
   "metadata": {},
   "outputs": [
    {
     "data": {
      "text/plain": [
       "array([[0.000000e+00, 0.000000e+00, 8.243546e+02, 1.206278e+02,\n",
       "        8.009512e+00, 1.463269e+00],\n",
       "       [0.000000e+00, 0.000000e+00, 9.599281e+02, 1.836522e+02,\n",
       "        7.793197e+00, 2.783214e+00],\n",
       "       [0.000000e+00, 0.000000e+00, 9.251127e+02, 2.070189e+02,\n",
       "        7.656076e+00, 2.186615e+00],\n",
       "       ...,\n",
       "       [6.485000e+03, 3.000000e+00, 4.907735e+02, 4.557069e+02,\n",
       "        8.359169e+00, 2.320950e+00],\n",
       "       [6.485000e+03, 3.000000e+00, 5.876010e+02, 4.675593e+02,\n",
       "        8.067669e+00, 1.915726e+00],\n",
       "       [6.485000e+03, 3.000000e+00, 5.273528e+02, 4.046627e+02,\n",
       "        7.726849e+00, 1.615071e+00]])"
      ]
     },
     "execution_count": 93,
     "metadata": {},
     "output_type": "execute_result"
    }
   ],
   "source": [
    "fc"
   ]
  },
  {
   "cell_type": "code",
   "execution_count": 84,
   "metadata": {},
   "outputs": [],
   "source": [
    "def linesForPanelImage(panel,image,allLinesMatrix):\n",
    "    pc = allLinesMatrix\n",
    "    \n",
    "    linesImg = pc[:,0]==image\n",
    "    linesPi = pc[:,1]==panel\n",
    "    lines = linesPi * linesImg\n",
    "    \n",
    "    return pc[lines,:]"
   ]
  },
  {
   "cell_type": "code",
   "execution_count": 76,
   "metadata": {},
   "outputs": [],
   "source": [
    "def cornersOfPanel(dataMatrix):\n",
    "    c = []\n",
    "    for i in range(npanels):\n",
    "        c.append(pc[lines,(2+i*3):(4+i*3)].squeeze())\n",
    "\n",
    "    p = []\n",
    "    for pi in c:\n",
    "        p.append(Point(pi[0],pi[1]))\n",
    "\n",
    "    pg = Polygon(p)\n",
    "    pg = pg.convex_hull\n",
    "    \n",
    "    return pg"
   ]
  },
  {
   "cell_type": "code",
   "execution_count": 85,
   "metadata": {},
   "outputs": [],
   "source": [
    "width = 1096\n",
    "height = 769\n",
    "\n",
    "for img in range(nimages):\n",
    "    pg = []\n",
    "    for pi in range(npanels):\n",
    "        panelData = linesForPanelImage(pi,img,pc)\n",
    "        pg.append(cornersOfPanel(panelData))\n",
    "\n",
    "    mask = np.zeros([width,height])        \n",
    "    for i in range(width):\n",
    "        for j in range(height):\n",
    "            p = Point(i,j)\n",
    "            for k in range(npanels):\n",
    "                if p.within(pg[k]):\n",
    "                    mask[i,j] = 1\n",
    "                    \n",
    "    "
   ]
  },
  {
   "cell_type": "code",
   "execution_count": 88,
   "metadata": {},
   "outputs": [],
   "source": []
  },
  {
   "cell_type": "code",
   "execution_count": 89,
   "metadata": {
    "scrolled": true
   },
   "outputs": [],
   "source": []
  },
  {
   "cell_type": "code",
   "execution_count": 91,
   "metadata": {},
   "outputs": [
    {
     "data": {
      "text/plain": [
       "array([[0., 0., 0., ..., 0., 0., 0.],\n",
       "       [0., 0., 0., ..., 0., 0., 0.],\n",
       "       [0., 0., 0., ..., 0., 0., 0.],\n",
       "       ...,\n",
       "       [0., 0., 0., ..., 0., 0., 0.],\n",
       "       [0., 0., 0., ..., 0., 0., 0.],\n",
       "       [0., 0., 0., ..., 0., 0., 0.]])"
      ]
     },
     "execution_count": 91,
     "metadata": {},
     "output_type": "execute_result"
    }
   ],
   "source": [
    "mask"
   ]
  },
  {
   "cell_type": "code",
   "execution_count": null,
   "metadata": {},
   "outputs": [],
   "source": []
  }
 ],
 "metadata": {
  "kernelspec": {
   "display_name": "Python 3",
   "language": "python",
   "name": "python3"
  },
  "language_info": {
   "codemirror_mode": {
    "name": "ipython",
    "version": 3
   },
   "file_extension": ".py",
   "mimetype": "text/x-python",
   "name": "python",
   "nbconvert_exporter": "python",
   "pygments_lexer": "ipython3",
   "version": "3.7.7"
  }
 },
 "nbformat": 4,
 "nbformat_minor": 4
}
